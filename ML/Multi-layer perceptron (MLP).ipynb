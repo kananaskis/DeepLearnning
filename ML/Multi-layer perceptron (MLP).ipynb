{
 "cells": [
  {
   "cell_type": "code",
   "execution_count": 12,
   "metadata": {},
   "outputs": [],
   "source": [
    "import numpy as np\n",
    "import matplotlib.pyplot as plt"
   ]
  },
  {
   "cell_type": "code",
   "execution_count": 69,
   "metadata": {},
   "outputs": [],
   "source": [
    "# Activation function: sigmoid\n",
    "def sigmoid(x):\n",
    "    return 1 / (1 + np.exp(-x))\n",
    "\n",
    "# Derivative of sigmoid for backpropagation\n",
    "def sigmoid_deriv(x):\n",
    "    return sigmoid(x)*(1-sigmoid(x))"
   ]
  },
  {
   "cell_type": "code",
   "execution_count": 151,
   "metadata": {},
   "outputs": [],
   "source": [
    "def l2(output, target):\n",
    "    derivatives = 2*(output-target)\n",
    "    loss = (output - target)*(output - target)\n",
    "    return derivatives, loss\n",
    "\n",
    "def cross_entropy(output, target):\n",
    "    derivatives = -target/output + (1-target)/(1-output)\n",
    "    loss = -(target*np.log(output) + (1-target)*np.log(1-output))\n",
    "    return derivatives, loss\n",
    "\n",
    "# batch learning \n",
    "def forward(x, W1, W2, predict=False):\n",
    "\n",
    "    a1 = np.matmul(x, W1)  # pre-activation for the hidden layer \n",
    "    z1 = sigmoid(a1)  # output of the hidden layer\n",
    "    \n",
    "    # create and add bias\n",
    "    bias = np.ones((len(z1), 1))\n",
    "    z1 = np.concatenate((bias, z1), axis=1)  # concatenate bias terms for hidden layer\n",
    "    a2 = np.matmul(z1, W2)  # pre-activation for the output neuron\n",
    "    z2 = sigmoid(a2)  # output\n",
    "\n",
    "    if predict: \n",
    "        return z2\n",
    "    return a1, z1, a2, z2\n",
    "\n",
    "# Backprop function\n",
    "def backprop(a2, z0, z1, z2, y):\n",
    "    # error for ouput layer neurons\n",
    "    derivatives, loss = l2(z2, y)#z2 - y\n",
    "    #derivatives, loss = cross_entropy(z2, y)#z2 - y\n",
    "\n",
    "    # output of the hidden layer x error\n",
    "    Delta2 = np.matmul(z1.T, derivatives)\n",
    "    \n",
    "    # the local gradient for the hidden layer neurons (2 hidden layer neurons)  \n",
    "    delta1 = (derivatives.dot(W2[1:,:].T))*sigmoid_deriv(a1)  # (4x1)x(1x2)\\times(4x2) --> (4x2) \n",
    "    \n",
    "    # inputs x local gradient of hidden layer neurons\n",
    "    Delta1 = np.matmul(z0.T, delta1)\n",
    "    \n",
    "    return loss, Delta1, Delta2"
   ]
  },
  {
   "cell_type": "code",
   "execution_count": 152,
   "metadata": {},
   "outputs": [],
   "source": [
    "# Define the training data as a numpy array\n",
    "# First column is bias\n",
    "X = np.array([[1, 0, 0],\n",
    "            [1, 0, 1],\n",
    "            [1, 1, 0],\n",
    "            [1, 1, 1]])\n",
    "\n",
    "# The labels for the training data.\n",
    "y = np.array([[0],\n",
    "            [1],\n",
    "            [1],\n",
    "            [0]])"
   ]
  },
  {
   "cell_type": "code",
   "execution_count": 153,
   "metadata": {},
   "outputs": [],
   "source": [
    "num_i_units = 3 # Number of Input units (bias included)\n",
    "num_h_units = 2 # Number of Hidden units\n",
    "num_o_units = 1 # Number of Output units\n",
    "\n",
    "# The learning rate for Gradient Descent.\n",
    "learning_rate = 0.09\n",
    "# error\n",
    "costs = []   # an list to record the cost of the NN after each Gradient Descent iteration.\n",
    "\n",
    "# number of epochs\n",
    "epochs = 15000\n",
    "\n",
    "# Number of training examples\n",
    "m = len(X)"
   ]
  },
  {
   "cell_type": "code",
   "execution_count": 154,
   "metadata": {},
   "outputs": [],
   "source": [
    "np.random.seed(3420) # set seed for reproducible results\n",
    "W1 = np.random.randn(num_i_units, num_h_units) # \n",
    "W2 = np.random.randn(num_h_units+1,1) # "
   ]
  },
  {
   "cell_type": "code",
   "execution_count": 155,
   "metadata": {},
   "outputs": [
    {
     "name": "stdout",
     "output_type": "stream",
     "text": [
      "Iteration: 0; Error 0.2556926638132738\n",
      "Iteration: 1000; Error 0.057199506069924154\n",
      "Iteration: 2000; Error 0.002943532717245195\n",
      "Iteration: 3000; Error 0.0007965845285258651\n",
      "Iteration: 4000; Error 0.000353731175564193\n",
      "Iteration: 5000; Error 0.0001968639124188569\n",
      "Iteration: 6000; Error 0.0001245772566218099\n",
      "Iteration: 7000; Error 8.562755331940445e-05\n",
      "Iteration: 8000; Error 6.234393016967961e-05\n",
      "Iteration: 9000; Error 4.7355919261416015e-05\n",
      "Iteration: 10000; Error 3.715790157390823e-05\n",
      "Iteration: 11000; Error 2.991359318515091e-05\n",
      "Iteration: 12000; Error 2.4587192925997274e-05\n",
      "Iteration: 13000; Error 2.0559107059307794e-05\n",
      "Iteration: 14000; Error 1.7440595872640766e-05\n",
      "Training complete.\n"
     ]
    }
   ],
   "source": [
    "for i in range(epochs):\n",
    "\n",
    "    # Forward propagation\n",
    "    a1, z1, a2, z2 = forward(X, W1, W2)\n",
    "\n",
    "    # Back propagation\n",
    "    delta2, Delta1, Delta2 = backprop(a2, X, z1, z2, y)\n",
    "\n",
    "    W1 = W1 - learning_rate*(1/m)*Delta1\n",
    "    W2 = W2 - learning_rate*(1/m)*Delta2\n",
    "\n",
    "    # Add costs to list for plotting\n",
    "    c = np.mean(np.abs(delta2))\n",
    "    costs.append(c)\n",
    "\n",
    "    if i % 1000 == 0:\n",
    "        print(f\"Iteration: {i}; Error {c}\")\n",
    "\n",
    "# Training complete\n",
    "print(\"Training complete.\")"
   ]
  },
  {
   "cell_type": "code",
   "execution_count": 156,
   "metadata": {},
   "outputs": [
    {
     "name": "stdout",
     "output_type": "stream",
     "text": [
      "Percentages:\n",
      " [[0.00367235]\n",
      " [0.99500928]\n",
      " [0.99659695]\n",
      " [0.00315238]]\n",
      "\n",
      "Predictions:\n",
      " [[0.]\n",
      " [1.]\n",
      " [1.]\n",
      " [0.]]\n",
      "\n"
     ]
    }
   ],
   "source": [
    "z3 = forward(X, W1, W2, True)\n",
    "print(f\"Percentages:\\n {z3}\\n\")\n",
    "print(f\"Predictions:\\n {np.round(z3)}\\n\")"
   ]
  },
  {
   "cell_type": "code",
   "execution_count": 157,
   "metadata": {},
   "outputs": [
    {
     "data": {
      "image/png": "[encoded data removed]",
      "text/plain": [
       "<Figure size 432x288 with 1 Axes>"
      ]
     },
     "metadata": {
      "needs_background": "light"
     },
     "output_type": "display_data"
    }
   ],
   "source": [
    "# Assigning the axes to the different elements.\n",
    "plt.plot(range(epochs), costs)\n",
    "\n",
    "# Labelling the x axis as the iterations axis.\n",
    "plt.xlabel(\"Iterations\")\n",
    "\n",
    "# Labelling the y axis as the cost axis.\n",
    "plt.ylabel(\"Error\")\n",
    "\n",
    "# Showing the plot.\n",
    "plt.show()"
   ]
  }
 ],
 "metadata": {
  "kernelspec": {
   "display_name": "Python [conda env:py3] *",
   "language": "python",
   "name": "conda-env-py3-py"
  },
  "language_info": {
   "codemirror_mode": {
    "name": "ipython",
    "version": 3
   },
   "file_extension": ".py",
   "mimetype": "text/x-python",
   "name": "python",
   "nbconvert_exporter": "python",
   "pygments_lexer": "ipython3",
   "version": "3.7.9"
  }
 },
 "nbformat": 4,
 "nbformat_minor": 4
}
